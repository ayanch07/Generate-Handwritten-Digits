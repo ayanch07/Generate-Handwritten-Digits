{
  "nbformat": 4,
  "nbformat_minor": 0,
  "metadata": {
    "colab": {
      "name": "DigitRecog_Pytorch.ipynb",
      "provenance": [],
      "collapsed_sections": [],
      "authorship_tag": "ABX9TyMFnHfYEUk55uvuCphzaQSX",
      "include_colab_link": true
    },
    "kernelspec": {
      "name": "python3",
      "display_name": "Python 3"
    },
    "language_info": {
      "name": "python"
    },
    "accelerator": "GPU"
  },
  "cells": [
    {
      "cell_type": "markdown",
      "metadata": {
        "id": "view-in-github",
        "colab_type": "text"
      },
      "source": [
        "<a href=\"https://colab.research.google.com/github/ayanch07/Generate-Handwritten-Digits/blob/main/DigitRecog_Pytorch.ipynb\" target=\"_parent\"><img src=\"https://colab.research.google.com/assets/colab-badge.svg\" alt=\"Open In Colab\"/></a>"
      ]
    },
    {
      "cell_type": "markdown",
      "source": [
        "# Handwritten Digit recignition using pytorch"
      ],
      "metadata": {
        "id": "q5cvOvi3_wMR"
      }
    },
    {
      "cell_type": "code",
      "execution_count": 43,
      "metadata": {
        "id": "M8mD21Z-oOi4"
      },
      "outputs": [],
      "source": [
        "# importing required libraries\n",
        "import torch\n",
        "import torchvision\n",
        "from torchvision.datasets import MNIST\n",
        "import pandas as pd\n",
        "import numpy as np\n",
        "import matplotlib.pyplot as plt\n",
        "%matplotlib inline"
      ]
    },
    {
      "cell_type": "markdown",
      "source": [
        "### Loading dataset"
      ],
      "metadata": {
        "id": "_dFtM7iZ_87f"
      }
    },
    {
      "cell_type": "code",
      "source": [
        "dataset = MNIST(root='data/', download=True)"
      ],
      "metadata": {
        "id": "_vFGZPJvoZLx"
      },
      "execution_count": 44,
      "outputs": []
    },
    {
      "cell_type": "code",
      "source": [
        "len(dataset)"
      ],
      "metadata": {
        "colab": {
          "base_uri": "https://localhost:8080/"
        },
        "id": "IMZlaX-Hoyt6",
        "outputId": "e0026952-2cee-461c-e3dd-08a715cee082"
      },
      "execution_count": 45,
      "outputs": [
        {
          "output_type": "execute_result",
          "data": {
            "text/plain": [
              "60000"
            ]
          },
          "metadata": {},
          "execution_count": 45
        }
      ]
    },
    {
      "cell_type": "code",
      "source": [
        "test_dataset = MNIST(root='data/', train = False)\n",
        "len(test_dataset)"
      ],
      "metadata": {
        "id": "XrPLDOTbrRN7",
        "colab": {
          "base_uri": "https://localhost:8080/"
        },
        "outputId": "8a302c69-b863-4fa7-a7ef-52c6dc822694"
      },
      "execution_count": 46,
      "outputs": [
        {
          "output_type": "execute_result",
          "data": {
            "text/plain": [
              "10000"
            ]
          },
          "metadata": {},
          "execution_count": 46
        }
      ]
    },
    {
      "cell_type": "code",
      "source": [
        "dataset[0]"
      ],
      "metadata": {
        "colab": {
          "base_uri": "https://localhost:8080/"
        },
        "id": "QX2pXH-YGJcj",
        "outputId": "e8df3239-1020-49dc-ccb7-7293490fdd77"
      },
      "execution_count": 47,
      "outputs": [
        {
          "output_type": "execute_result",
          "data": {
            "text/plain": [
              "(<PIL.Image.Image image mode=L size=28x28 at 0x7FE08719D6D0>, 5)"
            ]
          },
          "metadata": {},
          "execution_count": 47
        }
      ]
    },
    {
      "cell_type": "code",
      "source": [
        "image, label = dataset[0]\n",
        "plt.imshow(image, cmap = 'gray')\n",
        "print('Label:', label)"
      ],
      "metadata": {
        "colab": {
          "base_uri": "https://localhost:8080/",
          "height": 283
        },
        "id": "xp42iUz-GTfW",
        "outputId": "7e1cf71c-f32b-41ee-cf59-00032c08c822"
      },
      "execution_count": 48,
      "outputs": [
        {
          "output_type": "stream",
          "name": "stdout",
          "text": [
            "Label: 5\n"
          ]
        },
        {
          "output_type": "display_data",
          "data": {
            "image/png": "[encoded data removed]",
            "text/plain": [
              "<Figure size 432x288 with 1 Axes>"
            ]
          },
          "metadata": {
            "needs_background": "light"
          }
        }
      ]
    },
    {
      "cell_type": "code",
      "source": [
        "import torchvision.transforms as transforms"
      ],
      "metadata": {
        "id": "ZdBVNnfCGc2W"
      },
      "execution_count": 49,
      "outputs": []
    },
    {
      "cell_type": "code",
      "source": [
        "#converting PIL image to pytorch tensor\n",
        "dataset = MNIST(root='data/',\n",
        "                train = True,\n",
        "                transform = transforms.ToTensor())\n"
      ],
      "metadata": {
        "id": "VvLLS6auGpAS"
      },
      "execution_count": 50,
      "outputs": []
    },
    {
      "cell_type": "code",
      "source": [
        "img_tensor, label = dataset[0]\n",
        "print(img_tensor.shape, label)"
      ],
      "metadata": {
        "colab": {
          "base_uri": "https://localhost:8080/"
        },
        "id": "hVpwKqOhGsL5",
        "outputId": "6801f0c1-8f1f-40eb-9074-25a24a06b448"
      },
      "execution_count": 51,
      "outputs": [
        {
          "output_type": "stream",
          "name": "stdout",
          "text": [
            "torch.Size([1, 28, 28]) 5\n"
          ]
        }
      ]
    },
    {
      "cell_type": "code",
      "source": [
        "# converted to 1 by 28 by 28 tensor, here 1 implies grayscale"
      ],
      "metadata": {
        "id": "51QbrmBqHNH1"
      },
      "execution_count": 52,
      "outputs": []
    },
    {
      "cell_type": "code",
      "source": [
        "print(img_tensor[0,10:15,10:15])"
      ],
      "metadata": {
        "colab": {
          "base_uri": "https://localhost:8080/"
        },
        "id": "nzeM2OFhHVcb",
        "outputId": "6348d070-0e16-479f-988f-ee9bcf03a981"
      },
      "execution_count": 53,
      "outputs": [
        {
          "output_type": "stream",
          "name": "stdout",
          "text": [
            "tensor([[0.0039, 0.6039, 0.9922, 0.3529, 0.0000],\n",
            "        [0.0000, 0.5451, 0.9922, 0.7451, 0.0078],\n",
            "        [0.0000, 0.0431, 0.7451, 0.9922, 0.2745],\n",
            "        [0.0000, 0.0000, 0.1373, 0.9451, 0.8824],\n",
            "        [0.0000, 0.0000, 0.0000, 0.3176, 0.9412]])\n"
          ]
        }
      ]
    },
    {
      "cell_type": "code",
      "source": [
        "from torch.utils.data.dataset import random_split\n",
        "#Training and validation datasets\n",
        "\n",
        "from torch.utils.data import random_split\n",
        "train_ds, val_ds = random_split(dataset, [50000, 10000]) # splits into 50k and 10k\n",
        "len(train_ds), len(val_ds)"
      ],
      "metadata": {
        "colab": {
          "base_uri": "https://localhost:8080/"
        },
        "id": "bQiZ28kqH16h",
        "outputId": "b661bcb3-b805-4594-c56a-84570923d6fe"
      },
      "execution_count": 54,
      "outputs": [
        {
          "output_type": "execute_result",
          "data": {
            "text/plain": [
              "(50000, 10000)"
            ]
          },
          "metadata": {},
          "execution_count": 54
        }
      ]
    },
    {
      "cell_type": "code",
      "source": [
        "from torch.utils.data import DataLoader\n",
        "batch_size = 128\n",
        "\n",
        "train_loader = DataLoader(train_ds, batch_size, shuffle=True)\n",
        "val_loader = DataLoader(val_ds, batch_size)"
      ],
      "metadata": {
        "id": "KbXALyPUMu8S"
      },
      "execution_count": 55,
      "outputs": []
    },
    {
      "cell_type": "markdown",
      "source": [
        "### Model"
      ],
      "metadata": {
        "id": "TPxZz6wFMATu"
      }
    },
    {
      "cell_type": "code",
      "source": [
        "# logistic regression model, pred = x @ w.t() + b\n",
        "# We can use nn.Linear after flattening teh matrix"
      ],
      "metadata": {
        "id": "3FL8i0lSIb_9"
      },
      "execution_count": 56,
      "outputs": []
    },
    {
      "cell_type": "code",
      "source": [
        "import torch.nn as nn\n",
        "\n",
        "input_size = 28*28\n",
        "num_classes = 10\n",
        "model = nn.Linear(input_size, num_classes)\n",
        "\n",
        "print(model.weight.shape)\n",
        "model.weight"
      ],
      "metadata": {
        "colab": {
          "base_uri": "https://localhost:8080/"
        },
        "id": "tHCXQHxFMLQ-",
        "outputId": "59c6019f-3c19-4495-ed18-9f071998d725"
      },
      "execution_count": 57,
      "outputs": [
        {
          "output_type": "stream",
          "name": "stdout",
          "text": [
            "torch.Size([10, 784])\n"
          ]
        },
        {
          "output_type": "execute_result",
          "data": {
            "text/plain": [
              "Parameter containing:\n",
              "tensor([[-0.0016,  0.0002,  0.0239,  ..., -0.0010, -0.0174, -0.0291],\n",
              "        [ 0.0062, -0.0297,  0.0031,  ...,  0.0116,  0.0292, -0.0021],\n",
              "        [-0.0276, -0.0064,  0.0120,  ..., -0.0349, -0.0065, -0.0106],\n",
              "        ...,\n",
              "        [ 0.0148, -0.0356,  0.0067,  ..., -0.0247,  0.0066, -0.0099],\n",
              "        [-0.0081, -0.0198, -0.0186,  ...,  0.0179,  0.0142,  0.0040],\n",
              "        [-0.0025, -0.0238,  0.0206,  ..., -0.0118,  0.0357,  0.0305]],\n",
              "       requires_grad=True)"
            ]
          },
          "metadata": {},
          "execution_count": 57
        }
      ]
    },
    {
      "cell_type": "code",
      "source": [
        "print(model.bias.shape)\n",
        "model.bias"
      ],
      "metadata": {
        "colab": {
          "base_uri": "https://localhost:8080/"
        },
        "id": "PGUrEJcBMZ9r",
        "outputId": "90fa2e47-5757-4f9e-cab3-76c9bb7d4fb0"
      },
      "execution_count": 58,
      "outputs": [
        {
          "output_type": "stream",
          "name": "stdout",
          "text": [
            "torch.Size([10])\n"
          ]
        },
        {
          "output_type": "execute_result",
          "data": {
            "text/plain": [
              "Parameter containing:\n",
              "tensor([ 0.0003,  0.0255, -0.0063,  0.0303, -0.0345,  0.0063,  0.0308,  0.0267,\n",
              "         0.0052,  0.0317], requires_grad=True)"
            ]
          },
          "metadata": {},
          "execution_count": 58
        }
      ]
    },
    {
      "cell_type": "code",
      "source": [
        "for images, labels in train_loader:\n",
        "    print(labels)\n",
        "    print(images.shape)\n",
        "    outputs = model(images)\n",
        "    print(outputs)\n",
        "    break\n",
        "# It was re-run after flattening the image to correct the size"
      ],
      "metadata": {
        "colab": {
          "base_uri": "https://localhost:8080/"
        },
        "id": "dYDgM94UAOZP",
        "outputId": "cdb6ff88-00a3-46b4-b1d5-2207d7e916b7"
      },
      "execution_count": 127,
      "outputs": [
        {
          "output_type": "stream",
          "name": "stdout",
          "text": [
            "tensor([2, 7, 9, 5, 1, 7, 9, 0, 2, 0, 3, 4, 5, 3, 6, 8, 1, 6, 3, 0, 1, 8, 3, 2,\n",
            "        0, 6, 4, 9, 7, 6, 9, 9, 3, 5, 9, 1, 0, 2, 9, 4, 7, 2, 0, 9, 3, 7, 3, 9,\n",
            "        3, 4, 0, 0, 4, 1, 6, 7, 1, 9, 3, 1, 7, 2, 5, 9, 8, 0, 0, 5, 6, 3, 1, 0,\n",
            "        1, 0, 2, 3, 7, 8, 7, 8, 6, 7, 4, 7, 3, 0, 8, 9, 5, 8, 1, 3, 6, 7, 0, 6,\n",
            "        5, 7, 9, 8, 5, 1, 9, 4, 3, 8, 7, 6, 7, 2, 2, 5, 5, 3, 0, 6, 0, 2, 4, 0,\n",
            "        8, 8, 0, 0, 8, 4, 3, 7])\n",
            "torch.Size([128, 1, 28, 28])\n",
            "tensor([[-2.1228, -0.9261,  4.6970,  ..., -0.0546, -0.3025,  0.4535],\n",
            "        [ 2.2885, -6.5565, -5.3480,  ...,  7.7270, -0.2032,  4.4702],\n",
            "        [-2.5869, -2.5159, -0.1893,  ...,  2.6626, -0.1483,  4.5632],\n",
            "        ...,\n",
            "        [-3.2319, -2.2432, -0.6940,  ..., -2.1336,  2.9852,  0.3082],\n",
            "        [-1.0693,  0.4968, -0.1088,  ..., -1.5191,  1.9119, -0.2450],\n",
            "        [-4.7372, -2.7555,  3.1772,  ...,  4.9049,  0.0595,  1.8884]],\n",
            "       grad_fn=<AddmmBackward0>)\n"
          ]
        }
      ]
    },
    {
      "cell_type": "code",
      "source": [
        "images.shape"
      ],
      "metadata": {
        "colab": {
          "base_uri": "https://localhost:8080/"
        },
        "id": "b14RRAO3NRul",
        "outputId": "313c26bb-ee44-449c-c39f-79b735275647"
      },
      "execution_count": 60,
      "outputs": [
        {
          "output_type": "execute_result",
          "data": {
            "text/plain": [
              "torch.Size([128, 1, 28, 28])"
            ]
          },
          "metadata": {},
          "execution_count": 60
        }
      ]
    },
    {
      "cell_type": "code",
      "source": [
        "images.reshape(128, 28*28).shape ## flattening"
      ],
      "metadata": {
        "colab": {
          "base_uri": "https://localhost:8080/"
        },
        "id": "EV5jGmgGNWE8",
        "outputId": "0de94086-37e0-4941-8c8a-e226f6b226a2"
      },
      "execution_count": 61,
      "outputs": [
        {
          "output_type": "execute_result",
          "data": {
            "text/plain": [
              "torch.Size([128, 784])"
            ]
          },
          "metadata": {},
          "execution_count": 61
        }
      ]
    },
    {
      "cell_type": "code",
      "source": [
        "# extend the functionality of nn.Module to include flatten basically\n",
        "\n",
        "class MnistModel(nn.Module):\n",
        "  def __init__(self):\n",
        "    super().__init__()\n",
        "    self.linear = nn.Linear(input_size, num_classes) #defining model.linear\n",
        "\n",
        "  def forward(self, xb):\n",
        "    xb = xb.reshape(-1, 784) # batch ## -1 to generalize the model not hardcode\n",
        "    out = self.linear(xb)\n",
        "    return out\n",
        "\n",
        "model = MnistModel()\n"
      ],
      "metadata": {
        "id": "lCUlSNuRNZ_K"
      },
      "execution_count": 64,
      "outputs": []
    },
    {
      "cell_type": "code",
      "source": [
        "model.linear"
      ],
      "metadata": {
        "colab": {
          "base_uri": "https://localhost:8080/"
        },
        "id": "8YnovWQfN1r6",
        "outputId": "0f3a97dd-bff6-480a-c074-6df2b387ca8a"
      },
      "execution_count": 65,
      "outputs": [
        {
          "output_type": "execute_result",
          "data": {
            "text/plain": [
              "Linear(in_features=784, out_features=10, bias=True)"
            ]
          },
          "metadata": {},
          "execution_count": 65
        }
      ]
    },
    {
      "cell_type": "code",
      "source": [
        "print(model.linear.weight.shape, model.linear.bias.shape)\n",
        "list(model.parameters())"
      ],
      "metadata": {
        "colab": {
          "base_uri": "https://localhost:8080/"
        },
        "id": "WEQqIPqHVrSM",
        "outputId": "686125f1-3d6c-4260-d0e4-31fbe2747642"
      },
      "execution_count": 69,
      "outputs": [
        {
          "output_type": "stream",
          "name": "stdout",
          "text": [
            "torch.Size([10, 784]) torch.Size([10])\n"
          ]
        },
        {
          "output_type": "execute_result",
          "data": {
            "text/plain": [
              "[Parameter containing:\n",
              " tensor([[ 0.0039,  0.0275, -0.0097,  ...,  0.0200, -0.0338, -0.0231],\n",
              "         [-0.0065, -0.0290,  0.0165,  ..., -0.0006,  0.0323,  0.0181],\n",
              "         [ 0.0031,  0.0339,  0.0162,  ...,  0.0103,  0.0276,  0.0082],\n",
              "         ...,\n",
              "         [-0.0192,  0.0094, -0.0094,  ..., -0.0068,  0.0148, -0.0065],\n",
              "         [-0.0066,  0.0231, -0.0224,  ...,  0.0051, -0.0189, -0.0268],\n",
              "         [-0.0035,  0.0171, -0.0317,  ...,  0.0316,  0.0356, -0.0061]],\n",
              "        requires_grad=True), Parameter containing:\n",
              " tensor([-0.0280,  0.0299,  0.0081, -0.0006,  0.0263,  0.0067,  0.0259,  0.0267,\n",
              "         -0.0226,  0.0270], requires_grad=True)]"
            ]
          },
          "metadata": {},
          "execution_count": 69
        }
      ]
    },
    {
      "cell_type": "code",
      "source": [
        "for images, labels in train_loader:\n",
        "  print(images.shape)\n",
        "  outputs = model(images)\n",
        "  break\n",
        "print(outputs.shape)\n",
        "print(outputs[:2].data)"
      ],
      "metadata": {
        "colab": {
          "base_uri": "https://localhost:8080/"
        },
        "id": "yIQEKhHuaiUq",
        "outputId": "9f9d27da-164c-46fc-e4e0-6d53d2cdf85a"
      },
      "execution_count": 71,
      "outputs": [
        {
          "output_type": "stream",
          "name": "stdout",
          "text": [
            "torch.Size([128, 1, 28, 28])\n",
            "torch.Size([128, 10])\n",
            "tensor([[-0.2411,  0.0489, -0.1616,  0.1226, -0.0487,  0.1409,  0.0629, -0.1016,\n",
            "         -0.2392,  0.0394],\n",
            "        [ 0.1370,  0.2614, -0.1880,  0.3960, -0.0405,  0.5026,  0.0877,  0.2525,\n",
            "         -0.0029,  0.2203]])\n"
          ]
        }
      ]
    },
    {
      "cell_type": "code",
      "source": [
        "# Softmax, each output should represent probablity\n",
        "import torch.nn.functional as F"
      ],
      "metadata": {
        "id": "iR1MXczahU6N"
      },
      "execution_count": 73,
      "outputs": []
    },
    {
      "cell_type": "code",
      "source": [
        "outputs[:2]"
      ],
      "metadata": {
        "colab": {
          "base_uri": "https://localhost:8080/"
        },
        "id": "LNAc3irqjyTv",
        "outputId": "716992f0-5fde-42c2-db5b-fcbc432915b9"
      },
      "execution_count": 74,
      "outputs": [
        {
          "output_type": "execute_result",
          "data": {
            "text/plain": [
              "tensor([[-0.2411,  0.0489, -0.1616,  0.1226, -0.0487,  0.1409,  0.0629, -0.1016,\n",
              "         -0.2392,  0.0394],\n",
              "        [ 0.1370,  0.2614, -0.1880,  0.3960, -0.0405,  0.5026,  0.0877,  0.2525,\n",
              "         -0.0029,  0.2203]], grad_fn=<SliceBackward0>)"
            ]
          },
          "metadata": {},
          "execution_count": 74
        }
      ]
    },
    {
      "cell_type": "code",
      "source": [
        "probs = F.softmax(outputs, dim = 1)\n",
        "print('sSample probs', probs[:2].data)"
      ],
      "metadata": {
        "colab": {
          "base_uri": "https://localhost:8080/"
        },
        "id": "Ym6wHAgikDD3",
        "outputId": "e9af8721-7636-4b0c-d5ff-4cf124f0d154"
      },
      "execution_count": 77,
      "outputs": [
        {
          "output_type": "stream",
          "name": "stdout",
          "text": [
            "sSample probs tensor([[0.0809, 0.1081, 0.0876, 0.1163, 0.0980, 0.1185, 0.1096, 0.0930, 0.0810,\n",
            "         0.1071],\n",
            "        [0.0956, 0.1083, 0.0691, 0.1239, 0.0800, 0.1378, 0.0910, 0.1073, 0.0831,\n",
            "         0.1039]])\n"
          ]
        }
      ]
    },
    {
      "cell_type": "code",
      "source": [
        "max_probs, preds = torch.max(probs, dim=1)\n",
        "print(preds)\n",
        "print(max_probs)"
      ],
      "metadata": {
        "colab": {
          "base_uri": "https://localhost:8080/"
        },
        "id": "RnU0ED1Qn_Bz",
        "outputId": "4ace00bb-19a8-4694-b928-49dbcf7654c2"
      },
      "execution_count": 79,
      "outputs": [
        {
          "output_type": "stream",
          "name": "stdout",
          "text": [
            "tensor([5, 5, 9, 6, 5, 7, 5, 3, 5, 1, 5, 5, 5, 7, 8, 7, 3, 5, 4, 7, 5, 5, 6, 1,\n",
            "        5, 9, 4, 5, 6, 5, 5, 3, 4, 7, 3, 5, 5, 3, 4, 7, 7, 5, 3, 5, 5, 3, 3, 5,\n",
            "        7, 5, 7, 5, 5, 5, 5, 3, 5, 3, 5, 6, 7, 4, 3, 7, 5, 3, 5, 5, 3, 4, 7, 7,\n",
            "        1, 8, 7, 5, 4, 9, 5, 5, 6, 7, 0, 9, 5, 3, 5, 5, 9, 7, 4, 7, 7, 4, 4, 4,\n",
            "        5, 5, 1, 7, 3, 9, 5, 5, 5, 4, 5, 5, 6, 5, 5, 3, 5, 1, 3, 3, 5, 5, 7, 5,\n",
            "        7, 3, 5, 4, 3, 4, 5, 5])\n",
            "tensor([0.1185, 0.1378, 0.1237, 0.1358, 0.1158, 0.1185, 0.1466, 0.1344, 0.1549,\n",
            "        0.1175, 0.1567, 0.1547, 0.1244, 0.1368, 0.1152, 0.1186, 0.1288, 0.1617,\n",
            "        0.1491, 0.1150, 0.1183, 0.1305, 0.1436, 0.1163, 0.1345, 0.1228, 0.1313,\n",
            "        0.1194, 0.1398, 0.1412, 0.1291, 0.1308, 0.1333, 0.1312, 0.1146, 0.1347,\n",
            "        0.1388, 0.1138, 0.1550, 0.1311, 0.1169, 0.1267, 0.1267, 0.1229, 0.1113,\n",
            "        0.1574, 0.1221, 0.1269, 0.1165, 0.1339, 0.1256, 0.1179, 0.1317, 0.1486,\n",
            "        0.1225, 0.1169, 0.1174, 0.1266, 0.1401, 0.1226, 0.1226, 0.1252, 0.1174,\n",
            "        0.1252, 0.1592, 0.1141, 0.1485, 0.1228, 0.1278, 0.1460, 0.1097, 0.1145,\n",
            "        0.1405, 0.1145, 0.1150, 0.1370, 0.1318, 0.1210, 0.1370, 0.1181, 0.1580,\n",
            "        0.1226, 0.1140, 0.1101, 0.1328, 0.1335, 0.1284, 0.1651, 0.1404, 0.1211,\n",
            "        0.1244, 0.1221, 0.1247, 0.1301, 0.1274, 0.1230, 0.1305, 0.1219, 0.1232,\n",
            "        0.1401, 0.1231, 0.1244, 0.1337, 0.1378, 0.1222, 0.1312, 0.1527, 0.1454,\n",
            "        0.1226, 0.1210, 0.1323, 0.1178, 0.1484, 0.1130, 0.1286, 0.1294, 0.1187,\n",
            "        0.1249, 0.1282, 0.1407, 0.1111, 0.1270, 0.1159, 0.1215, 0.1284, 0.1120,\n",
            "        0.1247, 0.1336], grad_fn=<MaxBackward0>)\n"
          ]
        }
      ]
    },
    {
      "cell_type": "code",
      "source": [
        "# It makes sense if the probablities are close to 10%"
      ],
      "metadata": {
        "id": "_cG9ef9moKb9"
      },
      "execution_count": 80,
      "outputs": []
    },
    {
      "cell_type": "code",
      "source": [
        "# Evaluatin Metric and loss function\n",
        "torch.sum(preds == labels)"
      ],
      "metadata": {
        "colab": {
          "base_uri": "https://localhost:8080/"
        },
        "id": "Aya_aZkSoVwy",
        "outputId": "535a0809-1780-46a2-8fa7-685e9b523153"
      },
      "execution_count": 81,
      "outputs": [
        {
          "output_type": "execute_result",
          "data": {
            "text/plain": [
              "tensor(12)"
            ]
          },
          "metadata": {},
          "execution_count": 81
        }
      ]
    },
    {
      "cell_type": "code",
      "source": [
        "def accuracy(outputs, labels):\n",
        "  _, preds = torch.max(outputs, dim=1)\n",
        "  return torch.tensor(torch.sum(preds == labels).item() / len(preds))\n",
        "\n",
        "accuracy(outputs, labels)"
      ],
      "metadata": {
        "colab": {
          "base_uri": "https://localhost:8080/"
        },
        "id": "74TWBgaaoe0i",
        "outputId": "66043d09-4b6e-4ef0-8585-5df20744041e"
      },
      "execution_count": 82,
      "outputs": [
        {
          "output_type": "execute_result",
          "data": {
            "text/plain": [
              "tensor(0.0938)"
            ]
          },
          "metadata": {},
          "execution_count": 82
        }
      ]
    },
    {
      "cell_type": "code",
      "source": [
        "# makes sense if it is 1/10 * 1/10 ie around 1%\n",
        "#For the loss function, accuracy doesn't work (no grad) thus we\n",
        "# use cross entropy\n",
        "outputs"
      ],
      "metadata": {
        "colab": {
          "base_uri": "https://localhost:8080/"
        },
        "id": "g6cFAXpSormK",
        "outputId": "8dbca24f-e2d5-4b5b-bba9-812abd4dcf93"
      },
      "execution_count": 85,
      "outputs": [
        {
          "output_type": "execute_result",
          "data": {
            "text/plain": [
              "tensor([[-0.2411,  0.0489, -0.1616,  ..., -0.1016, -0.2392,  0.0394],\n",
              "        [ 0.1370,  0.2614, -0.1880,  ...,  0.2525, -0.0029,  0.2203],\n",
              "        [-0.0666, -0.0570,  0.1758,  ...,  0.0757, -0.1436,  0.3134],\n",
              "        ...,\n",
              "        [ 0.1208,  0.1483,  0.0520,  ..., -0.2137, -0.0015,  0.0367],\n",
              "        [ 0.0453, -0.0986, -0.1180,  ..., -0.0185, -0.0353,  0.0300],\n",
              "        [-0.0816, -0.0306, -0.0989,  ..., -0.1250,  0.2584, -0.1755]],\n",
              "       grad_fn=<AddmmBackward0>)"
            ]
          },
          "metadata": {},
          "execution_count": 85
        }
      ]
    },
    {
      "cell_type": "code",
      "source": [
        "loss_fn = F.cross_entropy"
      ],
      "metadata": {
        "id": "_1Ba89ysqaep"
      },
      "execution_count": 86,
      "outputs": []
    },
    {
      "cell_type": "code",
      "source": [
        "loss = loss_fn(outputs, labels)\n",
        "print(loss)"
      ],
      "metadata": {
        "colab": {
          "base_uri": "https://localhost:8080/"
        },
        "id": "nezxFuXntNPQ",
        "outputId": "6618e329-965b-4f73-c702-88a544829803"
      },
      "execution_count": 87,
      "outputs": [
        {
          "output_type": "stream",
          "name": "stdout",
          "text": [
            "tensor(2.2896, grad_fn=<NllLossBackward0>)\n"
          ]
        }
      ]
    },
    {
      "cell_type": "markdown",
      "source": [
        "### Training the model\n",
        "Pseudo code\n",
        "```\n",
        "for epoch in range(num_epochs):\n",
        "  #Training phase\n",
        "  for batch in train_loader:\n",
        "    Generate predictiions\n",
        "    Calculate loss\n",
        "    Compute gradients\n",
        "    Update weights\n",
        "    Reset gradients\n",
        "  \n",
        "  #Validation phase\n",
        "  for batch in val_loader:\n",
        "    Generate predictions\n",
        "    Calculate loss\n",
        "    Calculate metrices (accuracy, etc)\n",
        "  Calculate average validation loss and metrics\n",
        "  Log epoch, loss and metrics for inspection\n",
        "```\n",
        "Some parts - viz, loss function, metrics etc are specific to our problem\n",
        "but others are generic to any deep learning problem"
      ],
      "metadata": {
        "id": "Z97EBd-9tcdn"
      }
    },
    {
      "cell_type": "code",
      "source": [
        "def fit(epochs, lr, model, train_loader, val_loader, opt_func = torch.optim.SGD):\n",
        "  optimizer = opt_func(model.parameters(), lr)\n",
        "  history = []  # to record epoch wise results\n",
        "\n",
        "  for epoch in range(epochs):\n",
        "\n",
        "    #Training phase\n",
        "    for batch in train_loader:\n",
        "      loss = model.training_step(batch)\n",
        "      loss.backward()\n",
        "      optimizer.step()\n",
        "      optimizer.zero_grad()\n",
        "\n",
        "    # Validation Phase\n",
        "    result = evaluate(model, val_loader)\n",
        "    model.epoch_end(epoch, result)\n",
        "    history.append(result)\n",
        "\n",
        "  return history\n"
      ],
      "metadata": {
        "id": "JtY_XSVGtQ9F"
      },
      "execution_count": 97,
      "outputs": []
    },
    {
      "cell_type": "code",
      "source": [
        "# We need to define evaluation etc"
      ],
      "metadata": {
        "id": "yLBDJojiu6Q0"
      },
      "execution_count": 92,
      "outputs": []
    },
    {
      "cell_type": "code",
      "source": [
        "def evaluate(model, val_loader):\n",
        "  outputs = [model.validation_step(batch) for batch in val_loader]\n",
        "  return model.validation_epoch_end(outputs)"
      ],
      "metadata": {
        "id": "ZgCIaJVWv6Vk"
      },
      "execution_count": 91,
      "outputs": []
    },
    {
      "cell_type": "markdown",
      "source": [
        "Finally, let's redefine the MnistModel class to include additional methods training_step, validation_step, validation_epoch_end, and epoch_end used by fit and evaluate"
      ],
      "metadata": {
        "id": "3qoih4dlwJVI"
      }
    },
    {
      "cell_type": "code",
      "source": [
        "class MnistModel(nn.Module):\n",
        "  def __init__(self):\n",
        "    super().__init__()\n",
        "    self.linear = nn.Linear(input_size, num_classes)\n",
        "  \n",
        "  def forward(self, xb):\n",
        "    xb = xb.reshape(-1, 784)\n",
        "    out = self.linear(xb)\n",
        "    return out\n",
        "  def training_step(self, batch):\n",
        "    images, labels = batch\n",
        "    out = self(images) #Generate preds\n",
        "    loss = F.cross_entropy(out, labels) # calc loss\n",
        "    return loss\n",
        "  \n",
        "  def validation_step(self, batch):\n",
        "    images, labels = batch\n",
        "    out = self(images)  #generate preds\n",
        "    loss = F.cross_entropy(out, labels) #calc loss\n",
        "    acc = accuracy(out, labels) #calc accuracy\n",
        "    return {'val_loss': loss, 'val_acc': acc}\n",
        "\n",
        "  def validation_epoch_end(self, outputs):\n",
        "    batch_losses = [x['val_loss'] for x in outputs]\n",
        "    epoch_loss = torch.stack(batch_losses).mean() #Combine losses\n",
        "    batch_accs = [x['val_acc'] for x in outputs]\n",
        "    epoch_acc = torch.stack(batch_accs).mean()  # Combine accuracies\n",
        "    return {'val_loss': epoch_loss.item(), 'val_acc': epoch_acc.item()}\n",
        "\n",
        "  def epoch_end(self, epoch, result):\n",
        "    print(\"Epoch [{}], val_loss: {:.4f}, val_acc: {:.4f}\".format(epoch, result['val_loss'], result['val_acc']))\n",
        "\n",
        "model = MnistModel()\n"
      ],
      "metadata": {
        "id": "yUGvRe2pwHGV"
      },
      "execution_count": 93,
      "outputs": []
    },
    {
      "cell_type": "code",
      "source": [
        "# Before training\n",
        "result0 = evaluate(model, val_loader)\n",
        "result0"
      ],
      "metadata": {
        "colab": {
          "base_uri": "https://localhost:8080/"
        },
        "id": "WoWP3kHc3zSC",
        "outputId": "88daaa88-61df-42cb-ee26-3adbb67a5a23"
      },
      "execution_count": 94,
      "outputs": [
        {
          "output_type": "execute_result",
          "data": {
            "text/plain": [
              "{'val_acc': 0.1214398741722107, 'val_loss': 2.302419662475586}"
            ]
          },
          "metadata": {},
          "execution_count": 94
        }
      ]
    },
    {
      "cell_type": "code",
      "source": [
        "#After 5 epochs\n",
        "history1 = fit(5, 0.001, model, train_loader, val_loader)"
      ],
      "metadata": {
        "colab": {
          "base_uri": "https://localhost:8080/"
        },
        "id": "b7vZDIkU357J",
        "outputId": "3559247a-ab70-4ddd-dbd3-15041f391adf"
      },
      "execution_count": 98,
      "outputs": [
        {
          "output_type": "stream",
          "name": "stdout",
          "text": [
            "Epoch [0], val_loss: 1.9271, val_acc: 0.6574\n",
            "Epoch [1], val_loss: 1.6606, val_acc: 0.7422\n",
            "Epoch [2], val_loss: 1.4626, val_acc: 0.7746\n",
            "Epoch [3], val_loss: 1.3131, val_acc: 0.7934\n",
            "Epoch [4], val_loss: 1.1980, val_acc: 0.8042\n"
          ]
        }
      ]
    },
    {
      "cell_type": "code",
      "source": [
        "history2 = fit(5, 0.005, model, train_loader, val_loader)"
      ],
      "metadata": {
        "colab": {
          "base_uri": "https://localhost:8080/"
        },
        "id": "HKGD3qf54F0U",
        "outputId": "3842a50f-15ee-4014-f2e3-b0331fd2f349"
      },
      "execution_count": 100,
      "outputs": [
        {
          "output_type": "stream",
          "name": "stdout",
          "text": [
            "Epoch [0], val_loss: 0.7653, val_acc: 0.8458\n",
            "Epoch [1], val_loss: 0.6777, val_acc: 0.8542\n",
            "Epoch [2], val_loss: 0.6215, val_acc: 0.8600\n",
            "Epoch [3], val_loss: 0.5823, val_acc: 0.8641\n",
            "Epoch [4], val_loss: 0.5527, val_acc: 0.8657\n"
          ]
        }
      ]
    },
    {
      "cell_type": "code",
      "source": [
        "history3 = fit(10, 0.001, model, train_loader, val_loader)"
      ],
      "metadata": {
        "colab": {
          "base_uri": "https://localhost:8080/"
        },
        "id": "1jtHeCt44msf",
        "outputId": "abe440de-feb2-4629-e8c7-c0075c1505fa"
      },
      "execution_count": 101,
      "outputs": [
        {
          "output_type": "stream",
          "name": "stdout",
          "text": [
            "Epoch [0], val_loss: 0.5475, val_acc: 0.8668\n",
            "Epoch [1], val_loss: 0.5426, val_acc: 0.8675\n",
            "Epoch [2], val_loss: 0.5380, val_acc: 0.8683\n",
            "Epoch [3], val_loss: 0.5336, val_acc: 0.8692\n",
            "Epoch [4], val_loss: 0.5294, val_acc: 0.8704\n",
            "Epoch [5], val_loss: 0.5253, val_acc: 0.8705\n",
            "Epoch [6], val_loss: 0.5215, val_acc: 0.8710\n",
            "Epoch [7], val_loss: 0.5178, val_acc: 0.8716\n",
            "Epoch [8], val_loss: 0.5142, val_acc: 0.8722\n",
            "Epoch [9], val_loss: 0.5107, val_acc: 0.8723\n"
          ]
        }
      ]
    },
    {
      "cell_type": "code",
      "source": [
        "history4 = fit(80, 0.001, model, train_loader, val_loader)"
      ],
      "metadata": {
        "colab": {
          "base_uri": "https://localhost:8080/"
        },
        "id": "snxQJeTv4dxx",
        "outputId": "31b95b4b-2abf-4d68-d899-c41204e90fc0"
      },
      "execution_count": 102,
      "outputs": [
        {
          "output_type": "stream",
          "name": "stdout",
          "text": [
            "Epoch [0], val_loss: 0.5074, val_acc: 0.8727\n",
            "Epoch [1], val_loss: 0.5043, val_acc: 0.8735\n",
            "Epoch [2], val_loss: 0.5012, val_acc: 0.8741\n",
            "Epoch [3], val_loss: 0.4982, val_acc: 0.8748\n",
            "Epoch [4], val_loss: 0.4953, val_acc: 0.8752\n",
            "Epoch [5], val_loss: 0.4926, val_acc: 0.8756\n",
            "Epoch [6], val_loss: 0.4899, val_acc: 0.8758\n",
            "Epoch [7], val_loss: 0.4873, val_acc: 0.8769\n",
            "Epoch [8], val_loss: 0.4847, val_acc: 0.8772\n",
            "Epoch [9], val_loss: 0.4823, val_acc: 0.8774\n",
            "Epoch [10], val_loss: 0.4799, val_acc: 0.8778\n",
            "Epoch [11], val_loss: 0.4776, val_acc: 0.8784\n",
            "Epoch [12], val_loss: 0.4754, val_acc: 0.8789\n",
            "Epoch [13], val_loss: 0.4732, val_acc: 0.8789\n",
            "Epoch [14], val_loss: 0.4711, val_acc: 0.8789\n",
            "Epoch [15], val_loss: 0.4690, val_acc: 0.8791\n",
            "Epoch [16], val_loss: 0.4670, val_acc: 0.8795\n",
            "Epoch [17], val_loss: 0.4651, val_acc: 0.8797\n",
            "Epoch [18], val_loss: 0.4632, val_acc: 0.8796\n",
            "Epoch [19], val_loss: 0.4614, val_acc: 0.8800\n",
            "Epoch [20], val_loss: 0.4596, val_acc: 0.8798\n",
            "Epoch [21], val_loss: 0.4578, val_acc: 0.8801\n",
            "Epoch [22], val_loss: 0.4561, val_acc: 0.8805\n",
            "Epoch [23], val_loss: 0.4544, val_acc: 0.8807\n",
            "Epoch [24], val_loss: 0.4528, val_acc: 0.8809\n",
            "Epoch [25], val_loss: 0.4512, val_acc: 0.8814\n",
            "Epoch [26], val_loss: 0.4497, val_acc: 0.8816\n",
            "Epoch [27], val_loss: 0.4481, val_acc: 0.8817\n",
            "Epoch [28], val_loss: 0.4466, val_acc: 0.8820\n",
            "Epoch [29], val_loss: 0.4452, val_acc: 0.8823\n",
            "Epoch [30], val_loss: 0.4438, val_acc: 0.8825\n",
            "Epoch [31], val_loss: 0.4423, val_acc: 0.8830\n",
            "Epoch [32], val_loss: 0.4410, val_acc: 0.8829\n",
            "Epoch [33], val_loss: 0.4397, val_acc: 0.8831\n",
            "Epoch [34], val_loss: 0.4383, val_acc: 0.8833\n",
            "Epoch [35], val_loss: 0.4371, val_acc: 0.8836\n",
            "Epoch [36], val_loss: 0.4358, val_acc: 0.8839\n",
            "Epoch [37], val_loss: 0.4346, val_acc: 0.8842\n",
            "Epoch [38], val_loss: 0.4334, val_acc: 0.8843\n",
            "Epoch [39], val_loss: 0.4322, val_acc: 0.8843\n",
            "Epoch [40], val_loss: 0.4310, val_acc: 0.8847\n",
            "Epoch [41], val_loss: 0.4299, val_acc: 0.8848\n",
            "Epoch [42], val_loss: 0.4288, val_acc: 0.8852\n",
            "Epoch [43], val_loss: 0.4276, val_acc: 0.8859\n",
            "Epoch [44], val_loss: 0.4266, val_acc: 0.8861\n",
            "Epoch [45], val_loss: 0.4255, val_acc: 0.8862\n",
            "Epoch [46], val_loss: 0.4245, val_acc: 0.8864\n",
            "Epoch [47], val_loss: 0.4235, val_acc: 0.8864\n",
            "Epoch [48], val_loss: 0.4225, val_acc: 0.8868\n",
            "Epoch [49], val_loss: 0.4215, val_acc: 0.8870\n",
            "Epoch [50], val_loss: 0.4205, val_acc: 0.8873\n",
            "Epoch [51], val_loss: 0.4196, val_acc: 0.8872\n",
            "Epoch [52], val_loss: 0.4186, val_acc: 0.8878\n",
            "Epoch [53], val_loss: 0.4177, val_acc: 0.8878\n",
            "Epoch [54], val_loss: 0.4168, val_acc: 0.8879\n",
            "Epoch [55], val_loss: 0.4159, val_acc: 0.8880\n",
            "Epoch [56], val_loss: 0.4150, val_acc: 0.8881\n",
            "Epoch [57], val_loss: 0.4142, val_acc: 0.8883\n",
            "Epoch [58], val_loss: 0.4133, val_acc: 0.8882\n",
            "Epoch [59], val_loss: 0.4124, val_acc: 0.8884\n",
            "Epoch [60], val_loss: 0.4116, val_acc: 0.8884\n",
            "Epoch [61], val_loss: 0.4108, val_acc: 0.8887\n",
            "Epoch [62], val_loss: 0.4100, val_acc: 0.8888\n",
            "Epoch [63], val_loss: 0.4092, val_acc: 0.8888\n",
            "Epoch [64], val_loss: 0.4084, val_acc: 0.8892\n",
            "Epoch [65], val_loss: 0.4077, val_acc: 0.8894\n",
            "Epoch [66], val_loss: 0.4069, val_acc: 0.8894\n",
            "Epoch [67], val_loss: 0.4062, val_acc: 0.8896\n",
            "Epoch [68], val_loss: 0.4054, val_acc: 0.8896\n",
            "Epoch [69], val_loss: 0.4047, val_acc: 0.8898\n",
            "Epoch [70], val_loss: 0.4040, val_acc: 0.8899\n",
            "Epoch [71], val_loss: 0.4032, val_acc: 0.8903\n",
            "Epoch [72], val_loss: 0.4025, val_acc: 0.8904\n",
            "Epoch [73], val_loss: 0.4019, val_acc: 0.8907\n",
            "Epoch [74], val_loss: 0.4012, val_acc: 0.8907\n",
            "Epoch [75], val_loss: 0.4005, val_acc: 0.8909\n",
            "Epoch [76], val_loss: 0.3999, val_acc: 0.8910\n",
            "Epoch [77], val_loss: 0.3992, val_acc: 0.8912\n",
            "Epoch [78], val_loss: 0.3986, val_acc: 0.8913\n",
            "Epoch [79], val_loss: 0.3980, val_acc: 0.8913\n"
          ]
        }
      ]
    },
    {
      "cell_type": "code",
      "source": [
        "history = [result0] + history1 + history2 + history3 + history4\n",
        "accuracies = [result['val_acc'] for result in history]\n",
        "plt.plot(accuracies, '-')\n",
        "plt.xlabel('epoch')\n",
        "plt.ylabel('accuracy')\n",
        "plt.title('Accuracy vs. No. of epochs');"
      ],
      "metadata": {
        "colab": {
          "base_uri": "https://localhost:8080/",
          "height": 295
        },
        "id": "Xp9iIqOT4yd9",
        "outputId": "398282d1-6d5f-4a5f-9ae4-61ff3e79971e"
      },
      "execution_count": 116,
      "outputs": [
        {
          "output_type": "display_data",
          "data": {
            "image/png": "[encoded data removed]",
            "text/plain": [
              "<Figure size 432x288 with 1 Axes>"
            ]
          },
          "metadata": {
            "needs_background": "light"
          }
        }
      ]
    },
    {
      "cell_type": "code",
      "source": [
        "torch.save(model.state_dict(), 'mnist-logistic.pth') #saved the traind model\n",
        "model.state_dict() # saved parameters"
      ],
      "metadata": {
        "colab": {
          "base_uri": "https://localhost:8080/"
        },
        "id": "zOiuX5lz42eo",
        "outputId": "4f07cb9e-9b33-47e3-f43b-343b3a17428e"
      },
      "execution_count": 104,
      "outputs": [
        {
          "output_type": "execute_result",
          "data": {
            "text/plain": [
              "OrderedDict([('linear.weight',\n",
              "              tensor([[-0.0315,  0.0196, -0.0272,  ..., -0.0016, -0.0216, -0.0067],\n",
              "                      [-0.0023,  0.0178, -0.0160,  ..., -0.0076, -0.0342, -0.0286],\n",
              "                      [-0.0150,  0.0186,  0.0303,  ..., -0.0112,  0.0338, -0.0078],\n",
              "                      ...,\n",
              "                      [-0.0030,  0.0246, -0.0011,  ...,  0.0057,  0.0132,  0.0191],\n",
              "                      [-0.0109,  0.0259,  0.0238,  ..., -0.0329, -0.0170,  0.0287],\n",
              "                      [ 0.0079,  0.0057,  0.0114,  ..., -0.0017,  0.0039, -0.0103]])),\n",
              "             ('linear.bias',\n",
              "              tensor([-0.1066,  0.2107, -0.0344, -0.0598,  0.0667,  0.2147, -0.0316,  0.1318,\n",
              "                      -0.3778, -0.0283]))])"
            ]
          },
          "metadata": {},
          "execution_count": 104
        }
      ]
    },
    {
      "cell_type": "code",
      "source": [
        "# Define test dataset\n",
        "test_dataset = MNIST(root='data/', \n",
        "                     train=False,\n",
        "                     transform=transforms.ToTensor())"
      ],
      "metadata": {
        "id": "e-dPLr2m5Khx"
      },
      "execution_count": 117,
      "outputs": []
    },
    {
      "cell_type": "code",
      "source": [
        "img, label = test_dataset[0]\n",
        "plt.imshow(img[0], cmap='gray')\n",
        "print('Shape:', img.shape)\n",
        "print('Label:', label)"
      ],
      "metadata": {
        "colab": {
          "base_uri": "https://localhost:8080/",
          "height": 300
        },
        "id": "30diZITf-Yk1",
        "outputId": "0b7ff717-cafd-4307-bca0-b2049a6e7b03"
      },
      "execution_count": 118,
      "outputs": [
        {
          "output_type": "stream",
          "name": "stdout",
          "text": [
            "Shape: torch.Size([1, 28, 28])\n",
            "Label: 7\n"
          ]
        },
        {
          "output_type": "display_data",
          "data": {
            "image/png": "[encoded data removed]",
            "text/plain": [
              "<Figure size 432x288 with 1 Axes>"
            ]
          },
          "metadata": {
            "needs_background": "light"
          }
        }
      ]
    },
    {
      "cell_type": "code",
      "source": [
        "def predict_image(img, model):\n",
        "    xb = img.unsqueeze(0)\n",
        "    yb = model(xb)\n",
        "    _, preds = torch.max(yb, dim=1)\n",
        "    return preds[0].item()\n",
        "\n",
        "def print_pred(test_data):\n",
        "  img, label = test_data\n",
        "  plt.imshow(img[0], cmap='gray')\n",
        "  print('Label:', label, ', Predicted:', predict_image(img, model))"
      ],
      "metadata": {
        "id": "oy-0QGgV-aA5"
      },
      "execution_count": 122,
      "outputs": []
    },
    {
      "cell_type": "code",
      "source": [
        "print_pred(test_dataset[0])"
      ],
      "metadata": {
        "colab": {
          "base_uri": "https://localhost:8080/",
          "height": 283
        },
        "id": "ZiRV1YGn-dJN",
        "outputId": "f690e924-5369-497a-9150-b3ff9985c5a2"
      },
      "execution_count": 123,
      "outputs": [
        {
          "output_type": "stream",
          "name": "stdout",
          "text": [
            "Label: 7 , Predicted: 7\n"
          ]
        },
        {
          "output_type": "display_data",
          "data": {
            "image/png": "[encoded data removed]",
            "text/plain": [
              "<Figure size 432x288 with 1 Axes>"
            ]
          },
          "metadata": {
            "needs_background": "light"
          }
        }
      ]
    },
    {
      "cell_type": "code",
      "source": [
        "print_pred(test_dataset[200])"
      ],
      "metadata": {
        "colab": {
          "base_uri": "https://localhost:8080/",
          "height": 283
        },
        "id": "DpPm5AyF-f0y",
        "outputId": "55f56980-5b37-40f1-d656-c88165be555b"
      },
      "execution_count": 124,
      "outputs": [
        {
          "output_type": "stream",
          "name": "stdout",
          "text": [
            "Label: 3 , Predicted: 3\n"
          ]
        },
        {
          "output_type": "display_data",
          "data": {
            "image/png": "[encoded data removed]",
            "text/plain": [
              "<Figure size 432x288 with 1 Axes>"
            ]
          },
          "metadata": {
            "needs_background": "light"
          }
        }
      ]
    },
    {
      "cell_type": "markdown",
      "source": [
        "### Test"
      ],
      "metadata": {
        "id": "iFw7l1zK_Ud0"
      }
    },
    {
      "cell_type": "code",
      "source": [
        "test_loader = DataLoader(test_dataset, batch_size=256)\n",
        "result = evaluate(model, test_loader)\n",
        "result"
      ],
      "metadata": {
        "colab": {
          "base_uri": "https://localhost:8080/"
        },
        "id": "eqCz9rnD-_Cy",
        "outputId": "941f2110-1e20-41e9-f3bb-90749f087cbf"
      },
      "execution_count": 126,
      "outputs": [
        {
          "output_type": "execute_result",
          "data": {
            "text/plain": [
              "{'val_acc': 0.9012695550918579, 'val_loss': 0.3731919527053833}"
            ]
          },
          "metadata": {},
          "execution_count": 126
        }
      ]
    },
    {
      "cell_type": "markdown",
      "source": [
        "The accuracy on test dataset is 90.12% and loss is 0.373. This is a satisfactory result\n",
        "\n",
        "\n",
        "---\n",
        "\n",
        "\n"
      ],
      "metadata": {
        "id": "hIXpSTmC_eWo"
      }
    }
  ]
}